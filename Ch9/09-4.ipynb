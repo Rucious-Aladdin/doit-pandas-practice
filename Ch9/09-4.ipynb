{
 "cells": [
  {
   "cell_type": "code",
   "execution_count": 1,
   "metadata": {},
   "outputs": [],
   "source": [
    "#이모든 것은 끝판왕인 정규표현식을 위한 빌드업이니.."
   ]
  },
  {
   "cell_type": "code",
   "execution_count": 2,
   "metadata": {},
   "outputs": [
    {
     "name": "stderr",
     "output_type": "stream",
     "text": [
      "<>:1: SyntaxWarning: invalid escape sequence '\\d'\n",
      "<>:1: SyntaxWarning: invalid escape sequence '\\d'\n",
      "C:\\Users\\Suseong Kim\\AppData\\Local\\Temp\\ipykernel_5124\\89182623.py:1: SyntaxWarning: invalid escape sequence '\\d'\n",
      "  \"\"\"\n"
     ]
    },
    {
     "data": {
      "text/plain": [
       "'\\n. : .a -> a앞에 문자가 하나있는 패턴 찾기\\n^ : ^I like -> 문자열의 처음부터 일치하는 패턴 찾기.\\n$ : on$ -> 문자열의 끝부분부터 일치하는 패턴을 찾음.\\n* : n\\\\d* -> n 이후 숫자가 0개 이상인 패턴 찾기\\n+ : n\\\\d+ -> n 이후 숫자가 1개 이상인 패턴 찾기\\n? : apple? -> ?앞의 문자(e)가 있거나 없는패턴 찾기\\n{m}: n\\\\d{2} -> n이후 숫자가 2개인 패턴 찾기.\\n{m, n}: n\\\\d{2} -> n이후 숫자가 2개이상, 4개이하인 패턴 찾기.\\n\\\\ : \\\\*, \\\\?, \\\\+: 특수문자 검색\\n[]: [cfh]all -> c, f, h 중 1개를 포함하고, 나머지 문자열이 all인것 찾기.\\n|: apple | application -> 둘중 하나만 있는 것찾기.\\n(): () -> 에 지정한 패턴을 찾음.\\n'"
      ]
     },
     "execution_count": 2,
     "metadata": {},
     "output_type": "execute_result"
    }
   ],
   "source": [
    "\"\"\"\n",
    ". : .a -> a앞에 문자가 하나있는 패턴 찾기\n",
    "^ : ^I like -> 문자열의 처음부터 일치하는 패턴 찾기.\n",
    "$ : on$ -> 문자열의 끝부분부터 일치하는 패턴을 찾음.\n",
    "* : n\\d* -> n 이후 숫자가 0개 이상인 패턴 찾기\n",
    "+ : n\\d+ -> n 이후 숫자가 1개 이상인 패턴 찾기\n",
    "? : apple? -> ?앞의 문자(e)가 있거나 없는패턴 찾기\n",
    "{m}: n\\d{2} -> n이후 숫자가 2개인 패턴 찾기.\n",
    "{m, n}: n\\d{2} -> n이후 숫자가 2개이상, 4개이하인 패턴 찾기.\n",
    "\\ : \\*, \\?, \\+: 특수문자 검색\n",
    "[]: [cfh]all -> c, f, h 중 1개를 포함하고, 나머지 문자열이 all인것 찾기.\n",
    "|: apple | application -> 둘중 하나만 있는 것찾기.\n",
    "(): () -> 에 지정한 패턴을 찾음.\n",
    "\"\"\""
   ]
  },
  {
   "cell_type": "code",
   "execution_count": 3,
   "metadata": {},
   "outputs": [
    {
     "name": "stderr",
     "output_type": "stream",
     "text": [
      "<>:1: SyntaxWarning: invalid escape sequence '\\d'\n",
      "<>:1: SyntaxWarning: invalid escape sequence '\\d'\n",
      "C:\\Users\\Suseong Kim\\AppData\\Local\\Temp\\ipykernel_5124\\3518420360.py:1: SyntaxWarning: invalid escape sequence '\\d'\n",
      "  \"\"\"\n"
     ]
    },
    {
     "data": {
      "text/plain": [
       "'\\n\\\\d -> 0 ~ 9\\n\\\\D -> 숫자이외의 문자 1개 <-> [^0-9]\\n\\\\s 공백, 탭1개\\n\\\\S 공백 문자 이외의 문자 1개\\n\\\\w 알파벳 1개\\n\\\\W 알파벳 이하의 문자 1개    \\n'"
      ]
     },
     "execution_count": 3,
     "metadata": {},
     "output_type": "execute_result"
    }
   ],
   "source": [
    "\"\"\"\n",
    "\\d -> 0 ~ 9\n",
    "\\D -> 숫자이외의 문자 1개 <-> [^0-9]\n",
    "\\s 공백, 탭1개\n",
    "\\S 공백 문자 이외의 문자 1개\n",
    "\\w 알파벳 1개\n",
    "\\W 알파벳 이하의 문자 1개    \n",
    "\"\"\""
   ]
  },
  {
   "cell_type": "code",
   "execution_count": 4,
   "metadata": {},
   "outputs": [
    {
     "data": {
      "text/plain": [
       "'_summary_\\nfunction(정규식, 해당 문자열)\\n\\nsearch(): return first searched edge indicies of the strings\\nmatch(): return edge indicies of the strings\\nfullmatch() : True if whole string is matched else False\\nsplit() : return cutted strigs pertaining to seperator\\nfindall(): return matched pattern into list type\\nfinditer(): return iterator, operation is same to \"findall()\"\\nsub() : substitute pattern to easypub # sub(\"regular-exp.\", \"easypub\")\\n'"
      ]
     },
     "execution_count": 4,
     "metadata": {},
     "output_type": "execute_result"
    }
   ],
   "source": [
    "\"\"\"_summary_\n",
    "function(정규식, 해당 문자열)\n",
    "\n",
    "search(): return first searched edge indicies of the strings\n",
    "match(): return edge indicies of the strings\n",
    "fullmatch() : True if whole string is matched else False\n",
    "split() : return cutted strigs pertaining to seperator\n",
    "findall(): return matched pattern into list type\n",
    "finditer(): return iterator, operation is same to \"findall()\"\n",
    "sub() : substitute pattern to easypub # sub(\"regular-exp.\", \"easypub\")\n",
    "\"\"\""
   ]
  },
  {
   "cell_type": "code",
   "execution_count": 5,
   "metadata": {},
   "outputs": [],
   "source": [
    "import re\n",
    "tele_num = \"1234567890\""
   ]
  },
  {
   "cell_type": "code",
   "execution_count": 6,
   "metadata": {},
   "outputs": [
    {
     "name": "stdout",
     "output_type": "stream",
     "text": [
      "<class 're.Match'>\n"
     ]
    },
    {
     "name": "stderr",
     "output_type": "stream",
     "text": [
      "<>:1: SyntaxWarning: invalid escape sequence '\\d'\n",
      "<>:1: SyntaxWarning: invalid escape sequence '\\d'\n",
      "C:\\Users\\Suseong Kim\\AppData\\Local\\Temp\\ipykernel_5124\\2608821350.py:1: SyntaxWarning: invalid escape sequence '\\d'\n",
      "  m = re.match(pattern=\"\\d\\d\\d\\d\\d\\d\\d\\d\\d\\d\", string=tele_num)\n"
     ]
    }
   ],
   "source": [
    "m = re.match(pattern=\"\\d\\d\\d\\d\\d\\d\\d\\d\\d\\d\", string=tele_num)\n",
    "print(type(m))"
   ]
  },
  {
   "cell_type": "code",
   "execution_count": 7,
   "metadata": {},
   "outputs": [
    {
     "name": "stdout",
     "output_type": "stream",
     "text": [
      "<re.Match object; span=(0, 10), match='1234567890'>\n"
     ]
    }
   ],
   "source": [
    "print(m)"
   ]
  },
  {
   "cell_type": "code",
   "execution_count": 8,
   "metadata": {},
   "outputs": [
    {
     "name": "stdout",
     "output_type": "stream",
     "text": [
      "True\n"
     ]
    }
   ],
   "source": [
    "print(bool(m))"
   ]
  },
  {
   "cell_type": "code",
   "execution_count": 9,
   "metadata": {},
   "outputs": [
    {
     "data": {
      "text/plain": [
       "0"
      ]
     },
     "execution_count": 9,
     "metadata": {},
     "output_type": "execute_result"
    }
   ],
   "source": [
    "m.start() # first_index"
   ]
  },
  {
   "cell_type": "code",
   "execution_count": 10,
   "metadata": {},
   "outputs": [
    {
     "data": {
      "text/plain": [
       "10"
      ]
     },
     "execution_count": 10,
     "metadata": {},
     "output_type": "execute_result"
    }
   ],
   "source": [
    "m.end() # last_index"
   ]
  },
  {
   "cell_type": "code",
   "execution_count": 11,
   "metadata": {},
   "outputs": [
    {
     "data": {
      "text/plain": [
       "(0, 10)"
      ]
     },
     "execution_count": 11,
     "metadata": {},
     "output_type": "execute_result"
    }
   ],
   "source": [
    "m.span() # (start_index, last_index)"
   ]
  },
  {
   "cell_type": "code",
   "execution_count": 12,
   "metadata": {},
   "outputs": [
    {
     "data": {
      "text/plain": [
       "'1234567890'"
      ]
     },
     "execution_count": 12,
     "metadata": {},
     "output_type": "execute_result"
    }
   ],
   "source": [
    "m.group() # return the pattern"
   ]
  },
  {
   "cell_type": "code",
   "execution_count": 13,
   "metadata": {},
   "outputs": [
    {
     "name": "stdout",
     "output_type": "stream",
     "text": [
      "None\n"
     ]
    },
    {
     "name": "stderr",
     "output_type": "stream",
     "text": [
      "<>:2: SyntaxWarning: invalid escape sequence '\\d'\n",
      "<>:2: SyntaxWarning: invalid escape sequence '\\d'\n",
      "C:\\Users\\Suseong Kim\\AppData\\Local\\Temp\\ipykernel_5124\\474912649.py:2: SyntaxWarning: invalid escape sequence '\\d'\n",
      "  m = re.match(pattern=\"\\d{10}\", string=tele_num_spaces)\n"
     ]
    }
   ],
   "source": [
    "tele_num_spaces = \"123 456 7890\"\n",
    "m = re.match(pattern=\"\\d{10}\", string=tele_num_spaces)\n",
    "print(m)"
   ]
  },
  {
   "cell_type": "code",
   "execution_count": 14,
   "metadata": {},
   "outputs": [
    {
     "name": "stdout",
     "output_type": "stream",
     "text": [
      "not match\n"
     ]
    }
   ],
   "source": [
    "if m:\n",
    "    print(\"match\")\n",
    "else:\n",
    "    print(\"not match\")"
   ]
  },
  {
   "cell_type": "code",
   "execution_count": 17,
   "metadata": {},
   "outputs": [
    {
     "name": "stdout",
     "output_type": "stream",
     "text": [
      "<re.Match object; span=(0, 12), match='123 456 7890'>\n",
      "True\n"
     ]
    },
    {
     "name": "stderr",
     "output_type": "stream",
     "text": [
      "<>:1: SyntaxWarning: invalid escape sequence '\\d'\n",
      "<>:1: SyntaxWarning: invalid escape sequence '\\d'\n",
      "C:\\Users\\Suseong Kim\\AppData\\Local\\Temp\\ipykernel_5124\\1717695842.py:1: SyntaxWarning: invalid escape sequence '\\d'\n",
      "  p = \"\\d{3}\\s?\\d{3}\\s?\\d{4}\"\n"
     ]
    }
   ],
   "source": [
    "p = \"\\d{3}\\s?\\d{3}\\s?\\d{4}\"\n",
    "m = re.match(pattern=p, string=tele_num_spaces)\n",
    "print(m)\n",
    "# \\s? -> 공백이 있을수도, 없을수도 있음.\n",
    "if bool(m):\n",
    "    print(True)"
   ]
  },
  {
   "cell_type": "code",
   "execution_count": 24,
   "metadata": {},
   "outputs": [
    {
     "name": "stdout",
     "output_type": "stream",
     "text": [
      "True\n"
     ]
    },
    {
     "name": "stderr",
     "output_type": "stream",
     "text": [
      "<>:2: SyntaxWarning: invalid escape sequence '\\('\n",
      "<>:2: SyntaxWarning: invalid escape sequence '\\('\n",
      "C:\\Users\\Suseong Kim\\AppData\\Local\\Temp\\ipykernel_5124\\914688187.py:2: SyntaxWarning: invalid escape sequence '\\('\n",
      "  p = '\\(?\\d{3}\\)?\\s?\\d{3}\\s?-?\\d{4}'\n"
     ]
    }
   ],
   "source": [
    "tele_num_space_paren_dash = \"(123) 456-7890\"\n",
    "p = '\\(?\\d{3}\\)?\\s?\\d{3}\\s?-?\\d{4}'\n",
    "m=re.match(pattern=p, string=tele_num_space_paren_dash)\n",
    "if m:\n",
    "    print(True)"
   ]
  },
  {
   "cell_type": "code",
   "execution_count": 28,
   "metadata": {},
   "outputs": [
    {
     "name": "stdout",
     "output_type": "stream",
     "text": [
      "True\n"
     ]
    },
    {
     "name": "stderr",
     "output_type": "stream",
     "text": [
      "<>:2: SyntaxWarning: invalid escape sequence '\\+'\n",
      "<>:2: SyntaxWarning: invalid escape sequence '\\+'\n",
      "C:\\Users\\Suseong Kim\\AppData\\Local\\Temp\\ipykernel_5124\\1685521442.py:2: SyntaxWarning: invalid escape sequence '\\+'\n",
      "  p = '\\+?1\\s?\\(?\\d{3}\\)?\\s?\\d{3}\\s?-?\\d{4}'\n"
     ]
    }
   ],
   "source": [
    "cnty_tele_num_space_paren_dash = \"+1 (123) 456-7890\"\n",
    "p = '\\+?1\\s?\\(?\\d{3}\\)?\\s?\\d{3}\\s?-?\\d{4}'\n",
    "m=re.match(pattern=p, string=cnty_tele_num_space_paren_dash)\n",
    "if m:\n",
    "    print(True)\n",
    "else:\n",
    "    print(False)"
   ]
  },
  {
   "cell_type": "code",
   "execution_count": 29,
   "metadata": {},
   "outputs": [
    {
     "name": "stdout",
     "output_type": "stream",
     "text": [
      "<re.Match object; span=(0, 10), match='1234567890'>\n"
     ]
    },
    {
     "name": "stderr",
     "output_type": "stream",
     "text": [
      "<>:1: SyntaxWarning: invalid escape sequence '\\d'\n",
      "<>:1: SyntaxWarning: invalid escape sequence '\\d'\n",
      "C:\\Users\\Suseong Kim\\AppData\\Local\\Temp\\ipykernel_5124\\2806646798.py:1: SyntaxWarning: invalid escape sequence '\\d'\n",
      "  p = re.compile(\"\\d{10}\")\n"
     ]
    }
   ],
   "source": [
    "p = re.compile(\"\\d{10}\")\n",
    "s = \"1234567890\"\n",
    "m = p.match(s)\n",
    "print(m)"
   ]
  },
  {
   "cell_type": "code",
   "execution_count": 30,
   "metadata": {},
   "outputs": [
    {
     "name": "stdout",
     "output_type": "stream",
     "text": [
      "True\n"
     ]
    }
   ],
   "source": [
    "if m:\n",
    "    print(True)"
   ]
  }
 ],
 "metadata": {
  "kernelspec": {
   "display_name": "Python 3",
   "language": "python",
   "name": "python3"
  },
  "language_info": {
   "codemirror_mode": {
    "name": "ipython",
    "version": 3
   },
   "file_extension": ".py",
   "mimetype": "text/x-python",
   "name": "python",
   "nbconvert_exporter": "python",
   "pygments_lexer": "ipython3",
   "version": "3.12.2"
  }
 },
 "nbformat": 4,
 "nbformat_minor": 2
}
