{
 "cells": [
  {
   "cell_type": "code",
   "execution_count": 1,
   "metadata": {},
   "outputs": [],
   "source": [
    "# lambda 입력 : 출력1 if 조건1 else 출력2"
   ]
  },
  {
   "cell_type": "code",
   "execution_count": 2,
   "metadata": {},
   "outputs": [
    {
     "name": "stdout",
     "output_type": "stream",
     "text": [
      "It's just a flesh wound!\n"
     ]
    }
   ],
   "source": [
    "var = \"flesh wound\"\n",
    "s = \"It's just a {}!\"\n",
    "\n",
    "print(s.format(var))"
   ]
  },
  {
   "cell_type": "code",
   "execution_count": 3,
   "metadata": {},
   "outputs": [
    {
     "name": "stdout",
     "output_type": "stream",
     "text": [
      "It's just a scratch!\n"
     ]
    }
   ],
   "source": [
    "print(s.format(\"scratch\"))"
   ]
  },
  {
   "cell_type": "code",
   "execution_count": 4,
   "metadata": {},
   "outputs": [
    {
     "name": "stdout",
     "output_type": "stream",
     "text": [
      "Black Knight: 'Tis but a scratch.\n",
      "King Arthur: A scratch? Your arm's off!\n",
      "\n"
     ]
    }
   ],
   "source": [
    "# place holder\n",
    "\n",
    "s = \"\"\"Black Knight: 'Tis but a {0}.\n",
    "King Arthur: A {0}? Your arm's off!\n",
    "\"\"\"\n",
    "\n",
    "print(s.format(\"scratch\"))"
   ]
  },
  {
   "cell_type": "code",
   "execution_count": 5,
   "metadata": {},
   "outputs": [
    {
     "name": "stdout",
     "output_type": "stream",
     "text": [
      "Hayden Planetarium Coordinates: 40.7815 N, 73.9733 W\n"
     ]
    }
   ],
   "source": [
    "s = 'Hayden Planetarium Coordinates: {lat}, {lon}'\n",
    "print(s.format(lat=\"40.7815 N\", lon = \"73.9733 W\"))"
   ]
  },
  {
   "cell_type": "code",
   "execution_count": 6,
   "metadata": {},
   "outputs": [
    {
     "name": "stdout",
     "output_type": "stream",
     "text": [
      "Some digits of pi: 3.1415926539\n"
     ]
    }
   ],
   "source": [
    "# number formatting\n",
    "\n",
    "print(\"Some digits of pi: {}\".format(3.1415926539))"
   ]
  },
  {
   "cell_type": "code",
   "execution_count": 7,
   "metadata": {},
   "outputs": [
    {
     "name": "stdout",
     "output_type": "stream",
     "text": [
      "In 2005 ~ 67,890 digits of pi\n"
     ]
    }
   ],
   "source": [
    "print(\"In 2005 ~ {:,} digits of pi\".format(67890)) # 3자리마다 쉼표"
   ]
  },
  {
   "cell_type": "code",
   "execution_count": 8,
   "metadata": {},
   "outputs": [
    {
     "name": "stdout",
     "output_type": "stream",
     "text": [
      "I remember 0.0001031 or 0.0103% of whau Lu Chao recited\n"
     ]
    }
   ],
   "source": [
    "print(\"I remember {0:.4} or {0:.4%} of whau Lu Chao recited\".format(7/67890))"
   ]
  },
  {
   "cell_type": "code",
   "execution_count": 9,
   "metadata": {},
   "outputs": [
    {
     "name": "stdout",
     "output_type": "stream",
     "text": [
      "My ID number is 00042\n"
     ]
    }
   ],
   "source": [
    "print(\"My ID number is {0:05d}\".format(42))"
   ]
  }
 ],
 "metadata": {
  "kernelspec": {
   "display_name": "Python 3",
   "language": "python",
   "name": "python3"
  },
  "language_info": {
   "codemirror_mode": {
    "name": "ipython",
    "version": 3
   },
   "file_extension": ".py",
   "mimetype": "text/x-python",
   "name": "python",
   "nbconvert_exporter": "python",
   "pygments_lexer": "ipython3",
   "version": "3.12.2"
  }
 },
 "nbformat": 4,
 "nbformat_minor": 2
}
